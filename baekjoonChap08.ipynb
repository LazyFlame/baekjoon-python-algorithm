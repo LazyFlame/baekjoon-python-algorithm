{
 "cells": [
  {
   "cell_type": "markdown",
   "metadata": {},
   "source": [
    "# 사전 내용 학습\n",
    "\n",
    "- 진법 : 수를 표현하는 방법\n",
    "  - 2진법 : 0, 1\n",
    "  - 8진법 : 0 ~ 7\n",
    "  - 10진법 : 0 ~ 9\n",
    "  - 16진법 : 0 ~ 9, A(10) ~ F(15)\n",
    "\n",
    "- 진법 변환 : 수를 특정한 진법으로 바꾸는 것\n",
    "  - 10진법 >> 2진법\n",
    "    - 예) 15 >> 0000 1111\n",
    "    - 설명) 각 자리는 우측으로부터 좌측으로 2^0, 2^1, 2^2, 2^3 등의 순서로 표현할 수 있음."
   ]
  },
  {
   "cell_type": "markdown",
   "metadata": {},
   "source": [
    "- 문제번호: 2745\n",
    "- 문제이름: 진법 변환\n",
    "- 알게 된 내용\n",
    "  - 딕셔너리형에서 리스트와 같이 for문으로 각 변수를 초기화할 수 있다."
   ]
  },
  {
   "cell_type": "code",
   "execution_count": null,
   "metadata": {},
   "outputs": [],
   "source": [
    "# print((35*36**0)+(35*36**1)+(35*36**2)+(35*36**3)+(35*36**4))\n",
    "\n",
    "numList36 = {chr(i):j for i, j in zip(range(65, 91), range(10, 36))}\n",
    "\n",
    "num, numType = input().split()\n",
    "result = 0\n",
    "\n",
    "for i, j in zip(range(len(num)-1, -1, -1), range(0, len(num))):\n",
    "    if 48 <= ord(num[i]) <= 57:\n",
    "        result += ((int(num[i]) * ((int(numType)) ** j)))\n",
    "    else:\n",
    "        result += ((numList36[num[i]] * ((int(numType)) ** j)))\n",
    "\n",
    "print(result)"
   ]
  },
  {
   "cell_type": "markdown",
   "metadata": {},
   "source": [
    "- 문제번호: 11005\n",
    "- 문제이름: 진법 변환 2"
   ]
  },
  {
   "cell_type": "code",
   "execution_count": null,
   "metadata": {},
   "outputs": [],
   "source": [
    "numList36 = {i:chr(j) for i, j in zip(range(10, 36), range(65, 91))}\n",
    "\n",
    "# print(ord('A'))\n",
    "# print(ord('Z'))\n",
    "# print(ord('0'))\n",
    "# print(ord('9'))\n",
    "\n",
    "num, numType = input().split()\n",
    "\n",
    "temp = int(num)\n",
    "\n",
    "modList = []\n",
    "result = \"\"\n",
    "\n",
    "while True:\n",
    "    if temp < int(numType):\n",
    "        modList.append(temp)\n",
    "        break\n",
    "\n",
    "    modList.append(temp % int(numType))\n",
    "    temp = temp // int(numType)\n",
    "\n",
    "if len(modList) > 1:\n",
    "    modList.reverse()\n",
    "\n",
    "for i in modList:\n",
    "    if int(chr(48)) <= i <= int(chr(57)):\n",
    "        result += str(i)\n",
    "    else:\n",
    "        result += numList36[i]\n",
    "\n",
    "print(result)"
   ]
  },
  {
   "cell_type": "markdown",
   "metadata": {},
   "source": [
    "- 문제번호: 2720\n",
    "- 문제이름: 세탁소 사장 동혁\n",
    "- 오답 사유\n",
    "  - 부동 소수점 계산 오류\n",
    "  - 반올림 처리 시 오차값 발생\n",
    "\n",
    "- 알게 된 내용\n",
    "  - round() 함수는 첫 번째 인자의 값을 두 번째 인자에 명시된 소수점 자리에서 반올림 처리함.\n",
    "  - 부동소수점 처리는 컴퓨터에서 오차가 발생될 수 있음."
   ]
  },
  {
   "cell_type": "code",
   "execution_count": null,
   "metadata": {},
   "outputs": [],
   "source": [
    "# print(0.25*4 + 0.1*2 + 0.05*0 + 0.01*4)\n",
    "\n",
    "# print(1.24 // 0.25)\n",
    "# print((1.24 % 0.25) // 0.1)\n",
    "# print(((1.24 % 0.25) % 0.1))\n",
    "\n",
    "modList = [25, 10, 5, 1]\n",
    "\n",
    "T = int(input())\n",
    "\n",
    "for _ in range(T):\n",
    "    num = int(input())\n",
    "\n",
    "    for i in modList:\n",
    "        print(num // i, end=\" \")\n",
    "        num = num % i\n",
    "    \n",
    "    print(\"\")"
   ]
  },
  {
   "cell_type": "markdown",
   "metadata": {},
   "source": [
    "- 문제번호: 2903\n",
    "- 문제이름: 중앙 이동 알고리즘\n",
    "- 알게 된 내용\n",
    "  - math.sqrt()는 math 패키지에서 제공하며 소괄호 내 숫자의 제곱근을 반환한다.\n",
    "  - 규칙을 찾아 식을 세우는 연습 필요!"
   ]
  },
  {
   "cell_type": "code",
   "execution_count": null,
   "metadata": {},
   "outputs": [],
   "source": [
    "num = int(input())\n",
    "\n",
    "print(((2 ** num) + 1) ** 2)"
   ]
  },
  {
   "cell_type": "markdown",
   "metadata": {},
   "source": [
    "- 문제번호: 2292\n",
    "- 문제이름: 벌집"
   ]
  },
  {
   "cell_type": "code",
   "execution_count": null,
   "metadata": {},
   "outputs": [],
   "source": [
    "num = int(input())\n",
    "temp, result = 1, 1\n",
    "\n",
    "while num > temp:\n",
    "    temp += (6*result)\n",
    "    result += 1\n",
    "\n",
    "print(result)"
   ]
  },
  {
   "cell_type": "markdown",
   "metadata": {},
   "source": [
    "- 문제번호: 1193\n",
    "- 문제이름: 분수찾기\n",
    "- 알게 된 내용\n",
    "  - 문제 파악을 정확히 하는 연습 필요!\n",
    "  - 수학 문제에서는 규칙 존재여부 확인하기!\n",
    "- 구현 원리\n",
    "  - 분수의 패턴 확인\n",
    "    - 1/1 >> 1/2 >> 2/1 >> ... : 대각선 지그재그\n",
    "  - 패턴에 따라 그 대각선에 있는 분수 개수 확인\n",
    "    - (1/1) >> (1/2 >> 2/1) >> ... : 1, 2, 3개씩 묶임\n",
    "  - N번째 분수를 확인하기 위해 그 숫자가 위치한 대각선 번호 확인\n",
    "  - 대각선 번호 확인 시 값을 누적하는 변수 값을 통해 그 대각선의 끝 인덱스 번호를 저장\n",
    "  - 끝 인덱스 번호와 찾으려는 인덱스 번호의 차이를 계산하여 분자/분모값 확인(이 차이나는 값은 분자/분모값의 최대값을 넘지 않으며, 넘어갈 것 같으면 대각선 번호가 바뀔 것임.)\n",
    "  - 대각선 번호와 분자/분모 값의 관계 확인\n",
    "      - 해당 대각선에는 (대각선 번호 + 1)만큼의 분수가 들어있으며, 분자/분모를 이루는 모든 수들은 (대각선 번호 + 1) 이하임.\n",
    "      - 위 내용에 따라 대각선 번호와 차이나는 값을 빼면 분모/분자 값을 구할 수 있음."
   ]
  },
  {
   "cell_type": "code",
   "execution_count": null,
   "metadata": {},
   "outputs": [],
   "source": [
    "# 몇 번째 수를 확인하길 원하는지 입력 받기\n",
    "num = int(input())\n",
    "\n",
    "# 몇 번째 대각선(crossLineNo)에 num번째 분수가 있는지 저장\n",
    "# 대각선 번호 탐색하는 동안 이동한 각 묶음의 끝 인덱스 번호(temp)를 저장\n",
    "crossLineNo = 0\n",
    "temp = 0\n",
    "\n",
    "# 분자, 분모 값을 저장하기 위한 변수 2개 선언\n",
    "top, bottom = 0, 0\n",
    "\n",
    "# temp에 저장된 숫자가 num번째에 도달하기 전까지 반복\n",
    "while num > temp:\n",
    "    # 대각선에 진입한 후,\n",
    "    crossLineNo += 1\n",
    "\n",
    "    # temp에 crossLineNo를 저장하여 탐색한 칸 개수 저장함.\n",
    "    temp += crossLineNo\n",
    "\n",
    "# temp에 저장된 해당 대각선의 끝 인덱스 번호와 찾고자하는\n",
    "# N번째의 N의 차이 확인함.(그 숫자가 바로 (분자/분모의 값 - 1)에 해당함.)\n",
    "diff = temp - num\n",
    "\n",
    "# 만일, 인덱스 번호가 홀수일 경우\n",
    "if crossLineNo % 2 != 0:\n",
    "    # diff에서 1 더하기 한 값을 분자에 저장\n",
    "    top = diff + 1\n",
    "    # 분자와 반대로 가는 값은 대각선 번호에서 diff만큼 빼면 구할 수 있음.\n",
    "    # (이것이 바로 분모값)\n",
    "    bottom = crossLineNo - diff\n",
    "\n",
    "# 만일, 인덱스 번호가 짝수일 경우\n",
    "else:\n",
    "    # 분모와 반대로 가는 값은 대각선 번호에서 diff만큼 빼면 구할 수 있음.\n",
    "    # (이것이 바로 분자값)\n",
    "    top = crossLineNo - diff\n",
    "    # diff에서 1 더하기 한 값을 분모에 저장\n",
    "    bottom = diff + 1\n",
    "\n",
    "print(str(top) + \"/\" + str(bottom))\n",
    "\n"
   ]
  },
  {
   "cell_type": "markdown",
   "metadata": {},
   "source": [
    "- 문제번호: 2869\n",
    "- 문제이름: 달팽이는 올라가고 싶다\n",
    "\n",
    "- 구현 원리\n",
    "  - 마지막 날에는 낮에 도착지점에 도착함.\n",
    "  - 따라서 미리 전체 길이에서 뺀 다음, 1일간 올라간 길이만큼 나눈다.\n",
    "  - 만일, 위 조건에서 나머지가 남는다면, 1일을 더 추가해줘야 하므로 2를 더한다."
   ]
  },
  {
   "cell_type": "code",
   "execution_count": null,
   "metadata": {},
   "outputs": [],
   "source": [
    "A, B, V = map(int, input().split())\n",
    "\n",
    "# 만일 첫날 도달할 수 있다면, 1을 반환함.\n",
    "if V <= A:\n",
    "    print(1)\n",
    "\n",
    "else:\n",
    "    if (((V-A) % (A-B)) == 0):\n",
    "        # 마지막 날을 제외한 거리에서 1일간 올라간 길이만큼 나눔.\n",
    "        # 마지막 날을 더해주는 의미로 1을 더해준다.\n",
    "        print(((V-A) // (A-B)) + 1)\n",
    "    else:\n",
    "        # 나머지가 남는다면 1일을 더 추가해준다.\n",
    "        print(((V-A) // (A-B)) + 2)"
   ]
  }
 ],
 "metadata": {
  "kernelspec": {
   "display_name": "base",
   "language": "python",
   "name": "python3"
  },
  "language_info": {
   "codemirror_mode": {
    "name": "ipython",
    "version": 3
   },
   "file_extension": ".py",
   "mimetype": "text/x-python",
   "name": "python",
   "nbconvert_exporter": "python",
   "pygments_lexer": "ipython3",
   "version": "3.9.13"
  }
 },
 "nbformat": 4,
 "nbformat_minor": 2
}
